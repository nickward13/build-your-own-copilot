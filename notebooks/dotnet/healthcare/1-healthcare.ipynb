{
 "cells": [
  {
   "cell_type": "markdown",
   "metadata": {},
   "source": [
    "# Medical Assistant Powered by the Azure OpenAI Service\n",
    "\n",
    "In this sample we will explore how to use the Azure OpenAI Service to build a medical assistant. \n",
    "\n",
    "The doctor inputs Medical Shorthand (`shorthand`) and then we kick off the following stages:\n",
    "1. Convert the Medical Shorthand to a Clinical Note. (`clinical_note`)\n",
    "1. Convert the Medical Shorthand to a Structured Clinical Note. (`clinical_note_structured`) \n",
    "    1. Convert the Clinical Note to a Structured Clinical Note. (`clinical_note_structured`) - *variation*\n",
    "1. Analyse the Clinical Note to check if the doctor has missed anything? (`feedback`)"
   ]
  },
  {
   "cell_type": "markdown",
   "metadata": {},
   "source": [
    "## Azure OpenAI Service Setup\n",
    "\n",
    "We will kick things off by importing the required libraries:"
   ]
  },
  {
   "cell_type": "code",
   "execution_count": 1,
   "metadata": {
    "dotnet_interactive": {
     "language": "csharp"
    },
    "polyglot_notebook": {
     "kernelName": "csharp"
    },
    "vscode": {
     "languageId": "polyglot-notebook"
    }
   },
   "outputs": [
    {
     "data": {
      "text/html": [
       "<div><div></div><div></div><div><strong>Installed Packages</strong><ul><li><span>Azure.AI.OpenAI, 1.0.0-beta.8</span></li></ul></div></div>"
      ]
     },
     "metadata": {},
     "output_type": "display_data"
    }
   ],
   "source": [
    "#r \"nuget: Azure.AI.OpenAI, 1.0.0-beta.8\"\n",
    "\n",
    "#!import ../config/StringUtils.cs"
   ]
  },
  {
   "cell_type": "markdown",
   "metadata": {},
   "source": [
    "Now, setting up the Azure OpenAI Service.\n",
    "\n",
    "Note: You must to input your:\n",
    "- Azure OpenAI Service Endpoint.\n",
    "- Azure OpenAI Service Key.\n",
    "- Azure OpenAI Service Model Deployment Name."
   ]
  },
  {
   "cell_type": "code",
   "execution_count": 2,
   "metadata": {
    "dotnet_interactive": {
     "language": "csharp"
    },
    "polyglot_notebook": {
     "kernelName": "csharp"
    },
    "vscode": {
     "languageId": "polyglot-notebook"
    }
   },
   "outputs": [],
   "source": [
    "using Azure;\n",
    "using Azure.AI.OpenAI;\n",
    "\n",
    "var apiBase = \"https://YOUR-ENDPOINT.openai.azure.com/\"; // Add your endpoint here\n",
    "var apiKey = \"********************************\";         // Add your api key here\n",
    "var deploymentName = \"text-davinci-003\";                 // Add your deployment id here\n",
    "\n",
    "OpenAIClient client = new OpenAIClient(\n",
    "\tnew Uri(apiBase),\n",
    "\tnew AzureKeyCredential(apiKey));"
   ]
  },
  {
   "cell_type": "markdown",
   "metadata": {},
   "source": [
    "## Scenario Setup\n",
    "\n",
    "Here we will setup the scenario by defining the Clinical Shorthand (`shorthand`) that we will be using for this sample.\n",
    "\n",
    "Note: You can change the Clinical Shorthand to anything you like."
   ]
  },
  {
   "cell_type": "code",
   "execution_count": 3,
   "metadata": {
    "dotnet_interactive": {
     "language": "csharp"
    },
    "polyglot_notebook": {
     "kernelName": "csharp"
    },
    "vscode": {
     "languageId": "polyglot-notebook"
    }
   },
   "outputs": [],
   "source": [
    "// This is a sample medical shorthand note written by a doctor after seeing a patient.\n",
    "string shorthand = @\"\n",
    "John Brown, 73 M\n",
    "Sx: CPOE and SOBOE 3/12 typical\n",
    "PMHx: \n",
    "STEMI 2002. PCI LAD HREF.\n",
    "CKD\n",
    "CVA\n",
    "AF on NOAC\n",
    "MEDS bicor, aspirin, statin, rivaroxaban, entresto\n",
    "OE\n",
    "Well, BMI+ ECG NSR 80. BP 120/75\n",
    "JVPNR. Nil pedal edema. HSDNM. Chest clear.\n",
    "Imp\n",
    "Stable. \n",
    "Plan\n",
    "Lifestyle. Diet. GP f/u. PHT clinic because why not\n",
    "\";"
   ]
  },
  {
   "cell_type": "markdown",
   "metadata": {},
   "source": [
    "## Process Medical Shorthand\n",
    "\n",
    "Here we will use the Azure OpenAI Service to process the Medical Shorthand (`shorthand`)."
   ]
  },
  {
   "cell_type": "markdown",
   "metadata": {},
   "source": [
    "### Step 1: Convert the Medical Shorthand to a Clinical Note\n",
    "\n",
    "- **Input**: Medical Shorthand (`shorthand`)\n",
    "- **Output**: Clinical Note (`clinicalNote`)\n",
    "- **Model used**: `gpt-35-turbo`\n",
    "\n",
    "> Notes: On trying the `gpt-4` model yeilded better results. You may need to tweak the API settings if/when you use a different model.\n",
    "\n",
    "The template used is as follows:\n",
    "\n",
    "```\n",
    "<|im_start|>system\n",
    "You are an medical assistant. \n",
    "\n",
    "Users will paste in medical shorthand. You will respond by converting this to a clinical note, expanding any abbreviations.\n",
    "<|im_end|>\n",
    "<|im_start|>user\n",
    "******THE-MEDICAL-SHORTHAND-GOES-HERE******\n",
    "<|im_end|>\n",
    "<|im_start|>assistant\n",
    "Clinical Note:\n",
    "```"
   ]
  },
  {
   "cell_type": "code",
   "execution_count": 4,
   "metadata": {
    "dotnet_interactive": {
     "language": "csharp"
    },
    "polyglot_notebook": {
     "kernelName": "csharp"
    },
    "vscode": {
     "languageId": "polyglot-notebook"
    }
   },
   "outputs": [
    {
     "name": "stdout",
     "output_type": "stream",
     "text": [
      "Medical Shorthand: \n",
      "John Brown, 73 M\n",
      "Sx: CPOE and SOBOE 3/12 typical\n",
      "PMHx: \n",
      "STEMI 2002. PCI LAD HREF.\n",
      "CKD\n",
      "CVA\n",
      "AF on NOAC\n",
      "MEDS bicor, aspirin, statin, rivaroxaban, entresto\n",
      "OE\n",
      "Well, BMI+ ECG NSR 80. BP 120/75\n",
      "JVPNR. Nil pedal edema. HSDNM. Chest clear.\n",
      "Imp\n",
      "Stable. \n",
      "Plan\n",
      "Lifestyle. Diet. GP f/u. PHT clinic because why not\n",
      "\n",
      "Clinical Note: John Brown, a 73 year old male, presented with chest pain of 12 days duration\n",
      "typical of coronary artery disease. Past Medical History includes a ST-Elevation\n",
      "Myocardial Infarction (STEMI) in 2002, which was treated with Percutaneous\n",
      "Coronary Intervention (PCI) to the Left Anterior Descending Artery (LAD). He\n",
      "also has Chronic Kidney Disease (CKD) and Cerebrovascular Accident (CVA). He is\n",
      "on anticoagulation with a Non-Vitamin K Oral Anticoagulant (NOAC) for Atrial\n",
      "Fibrillation (AF). His medications include Bicor, Aspirin, Statin, Rivaroxaban,\n",
      "and Entresto. On examination, his Body Mass Index (BMI) was positive,\n",
      "Electrocardiogram (ECG) showed Normal Sinus Rhythm (NSR) at 80 beats per minute,\n",
      "Blood Pressure (BP) was 120/75, Jugular Venous Pressure (JVP) was Normal, and\n",
      "there was no Pedal Edema. His chest was clear.\n",
      "\n",
      "Impression: Stable.\n",
      "\n",
      "Plan:\n",
      "Lifestyle modifications, diet, follow-up with General Practitioner (GP), and\n",
      "referral to Pulmonary Hypertension (PHT) clinic.\n",
      "\n"
     ]
    }
   ],
   "source": [
    "string promptStep1 = $@\"\n",
    "<|im_start|>system\n",
    "You are an medical assistant. \n",
    "\n",
    "Users will paste in medical shorthand. You will respond by converting this to a clinical note, expanding any abbreviations.\n",
    "<|im_end|>\n",
    "<|im_start|>user\n",
    "{shorthand}\n",
    "<|im_end|>\n",
    "<|im_start|>assistant\n",
    "Clinical Note:\n",
    "\";\n",
    "\n",
    "Response<Completions> completionsResponse1 = await client.GetCompletionsAsync(\n",
    "    deploymentOrModelName: deploymentName,\n",
    "    new CompletionsOptions()\n",
    "    {\n",
    "        Prompts = { promptStep1 },\n",
    "        Temperature = (float)0.3,\n",
    "        MaxTokens = 1000,\n",
    "        FrequencyPenalty = (float)0,\n",
    "        PresencePenalty = (float)0,\n",
    "        StopSequences = {\"<|im_end|>\"},\n",
    "        NucleusSamplingFactor = 1        \n",
    "    });\n",
    "\n",
    "Completions completions1 = completionsResponse1.Value;\n",
    "\n",
    "string clinicalNote = completions1.Choices.First().Text;\n",
    "\n",
    "Console.WriteLine($\"Medical Shorthand: {shorthand}\");\n",
    "Console.WriteLine($\"Clinical Note: {StringUtils.WordWrap(clinicalNote, 80)}\");"
   ]
  },
  {
   "cell_type": "markdown",
   "metadata": {},
   "source": [
    "### Step 2 (A): Convert the Medical Shorthand to a Structured Clinical Note.\n",
    "\n",
    "- **Input**: Medical Shorthand (`shorthand`)\n",
    "- **Output**: Clinical Note (`clinicalNoteStructured`)\n",
    "- **Model used**: `gpt-35-turbo`\n",
    "\n",
    "> Notes: On trying the `gpt-4` model yeilded better results. You may need to tweak the API settings if/when you use a different model.\n",
    "\n",
    "The template used is as follows:\n",
    "\n",
    "```\n",
    "<|im_start|>system\n",
    "You are an medical assistant. \n",
    "\n",
    "Users will paste in medical shorthand. You will respond by converting this to a structured clinical note, expanding any abbreviations.\n",
    "<|im_end|>\n",
    "<|im_start|>user\n",
    "******THE-MEDICAL-SHORTHAND-GOES-HERE******\n",
    "<|im_end|>\n",
    "<|im_start|>assistant\n",
    "Clinical Note:\n",
    "```"
   ]
  },
  {
   "cell_type": "code",
   "execution_count": 5,
   "metadata": {
    "dotnet_interactive": {
     "language": "csharp"
    },
    "polyglot_notebook": {
     "kernelName": "csharp"
    },
    "vscode": {
     "languageId": "polyglot-notebook"
    }
   },
   "outputs": [
    {
     "name": "stdout",
     "output_type": "stream",
     "text": [
      "Medical Shorthand: \n",
      "John Brown, 73 M\n",
      "Sx: CPOE and SOBOE 3/12 typical\n",
      "PMHx: \n",
      "STEMI 2002. PCI LAD HREF.\n",
      "CKD\n",
      "CVA\n",
      "AF on NOAC\n",
      "MEDS bicor, aspirin, statin, rivaroxaban, entresto\n",
      "OE\n",
      "Well, BMI+ ECG NSR 80. BP 120/75\n",
      "JVPNR. Nil pedal edema. HSDNM. Chest clear.\n",
      "Imp\n",
      "Stable. \n",
      "Plan\n",
      "Lifestyle. Diet. GP f/u. PHT clinic because why not\n",
      "\n",
      "Structred Clinical Note: John Brown is a 73 year old male with a history of ST Elevation Myocardial\n",
      "Infarction in 2002, for which he underwent Percutaneous Coronary Intervention of\n",
      "the Left Anterior Descending Artery. He also has Chronic Kidney Disease,\n",
      "Cerebrovascular Accident, and is on a Non-Vitamin K Antagonist Oral\n",
      "Anticoagulant (NOAC) for Atrial Fibrillation.\n",
      "\n",
      "On examination, his Body Mass\n",
      "Index is elevated, Electrocardiogram is normal sinus rhythm at 80 beats per\n",
      "minute, Blood Pressure is 120/75, Jugular Venous Pressure is Normal, and there\n",
      "is no pedal edema. His chest is clear.\n",
      "\n",
      "The patient is stable. The plan is to\n",
      "focus on lifestyle modifications, diet, follow up with the General Practitioner,\n",
      "and a referral to the Pulmonary Hypertension clinic.\n",
      "\n"
     ]
    }
   ],
   "source": [
    "string promptStep2 = $@\"\n",
    "<|im_start|>system\n",
    "You are an medical assistant. \n",
    "\n",
    "Users will paste in medical shorthand. You will respond by converting this to a structured clinical note, expanding any abbreviations.\n",
    "<|im_end|>\n",
    "<|im_start|>user\n",
    "{shorthand}\n",
    "<|im_end|>\n",
    "<|im_start|>assistant\n",
    "\";\n",
    "\n",
    "Response<Completions> completionsResponse2 = await client.GetCompletionsAsync(\n",
    "    deploymentOrModelName: deploymentName,\n",
    "    new CompletionsOptions()\n",
    "    {\n",
    "        Prompts = { promptStep2 },\n",
    "        Temperature = (float)0.3,\n",
    "        MaxTokens = 1000,\n",
    "        FrequencyPenalty = (float)0,\n",
    "        PresencePenalty = (float)0,\n",
    "        StopSequences = {\"<|im_end|>\"},\n",
    "        NucleusSamplingFactor = 1        \n",
    "    });\n",
    "\n",
    "Completions completions2 = completionsResponse2.Value;\n",
    "\n",
    "string clinicalNoteStructured = completions2.Choices.First().Text;\n",
    "\n",
    "Console.WriteLine($\"Medical Shorthand: {shorthand}\");\n",
    "Console.WriteLine($\"Structred Clinical Note: {StringUtils.WordWrap(clinicalNoteStructured, 80)}\");"
   ]
  },
  {
   "cell_type": "markdown",
   "metadata": {},
   "source": [
    "### Step 2 (B): Convert the Clinical Note to a Structured Clinical Note.\n",
    "\n",
    "- **Input**: Medical Shorthand (`clinicalNote`)\n",
    "- **Output**: Clinical Note (`clinicalNoteStructuredb`)\n",
    "- **Model used**: `gpt-35-turbo`\n",
    "\n",
    "> Notes: On trying the `gpt-4` model yeilded better results. You may need to tweak the API settings if/when you use a different model.\n",
    "\n",
    "The template used is as follows:\n",
    "\n",
    "```\n",
    "<|im_start|>system\n",
    "You are an medical assistant.\n",
    "\n",
    "Users will paste in a clinical note. You will respond by converting this to a structured clinical note.\n",
    "<|im_end|>\n",
    "<|im_start|>user\n",
    "******THE-LONG-FORM-CLINICAL-NOTE-GOES-HERE******\n",
    "<|im_end|>\n",
    "<|im_start|>assistant\n",
    "Clinical Note:\n",
    "```\n"
   ]
  },
  {
   "cell_type": "code",
   "execution_count": 7,
   "metadata": {
    "dotnet_interactive": {
     "language": "csharp"
    },
    "polyglot_notebook": {
     "kernelName": "csharp"
    },
    "vscode": {
     "languageId": "polyglot-notebook"
    }
   },
   "outputs": [
    {
     "name": "stdout",
     "output_type": "stream",
     "text": [
      "Medical Shorthand: \n",
      "John Brown, 73 M\n",
      "Sx: CPOE and SOBOE 3/12 typical\n",
      "PMHx: \n",
      "STEMI 2002. PCI LAD HREF.\n",
      "CKD\n",
      "CVA\n",
      "AF on NOAC\n",
      "MEDS bicor, aspirin, statin, rivaroxaban, entresto\n",
      "OE\n",
      "Well, BMI+ ECG NSR 80. BP 120/75\n",
      "JVPNR. Nil pedal edema. HSDNM. Chest clear.\n",
      "Imp\n",
      "Stable. \n",
      "Plan\n",
      "Lifestyle. Diet. GP f/u. PHT clinic because why not\n",
      "\n",
      "Structred Clinical Note: John Brown is a 73 year old male who presented with chest pain of 12 days\n",
      "duration, which is typical of coronary artery disease. His past medical history\n",
      "includes a ST-Elevation Myocardial Infarction (STEMI) in 2002, which was treated\n",
      "with Percutaneous Coronary Intervention (PCI) to the Left Anterior Descending\n",
      "Artery (LAD). He also has Chronic Kidney Disease (CKD) and Cerebrovascular\n",
      "Accident (CVA). He is on anticoagulation with a Non-Vitamin K Oral Anticoagulant\n",
      "(NOAC) for Atrial Fibrillation (AF). His medications include Bicor, Aspirin,\n",
      "Statin, Rivaroxaban, and Entresto. On examination, his Body Mass Index (BMI) was\n",
      "positive, Electrocardiogram (ECG) showed Normal Sinus Rhythm (NSR) at 80 beats\n",
      "per minute, Blood Pressure (BP) was 120/75, Jugular Venous Pressure (JVP) was\n",
      "Normal, and there was no Pedal Edema. His chest was clear.\n",
      "\n",
      "Impression: Stable.\n",
      "Plan: Lifestyle modifications, diet, follow-up with General Practitioner (GP),\n",
      "and referral to Pulmonary Hypertension (PHT) clinic.\n",
      "\n",
      "Structured Clinical Note:\n",
      "Patient: John Brown\n",
      "Age: 73\n",
      "Gender: Male\n",
      "Chief Complaint: Chest pain of 12 days\n",
      "duration\n",
      "Past Medical History: ST-Elevation Myocardial Infarction (STEMI) in\n",
      "2002, treated with Percutaneous Coronary Intervention (PCI) to the Left Anterior\n",
      "Descending Artery (LAD), Chronic Kidney Disease (CKD), Cerebrovascular Accident\n",
      "(CVA)\n",
      "Medications: Bicor, Aspirin, Statin, Rivaroxaban, Entresto\n",
      "Examination:\n",
      "Body Mass Index (BMI) positive, Electrocardiogram (ECG) showed Normal Sinus\n",
      "Rhythm (NSR) at 80 beats per minute, Blood Pressure (BP) 120/75, Jugular Venous\n",
      "Pressure (JVP) Normal, no Pedal Edema, chest clear\n",
      "Impression: Stable\n",
      "Plan:\n",
      "Lifestyle modifications, diet, follow-up with General Practitioner (GP),\n",
      "referral to Pulmonary Hypertension (PHT) clinic\n",
      "\n"
     ]
    }
   ],
   "source": [
    "string promptStep2b = $@\"\n",
    "<|im_start|>system\n",
    "You are an medical assistant. \n",
    "\n",
    "Users will paste in a clinical note. You will respond by converting this to a structured clinical note.\n",
    "<|im_end|>\n",
    "<|im_start|>user\n",
    "{clinicalNote}\n",
    "<|im_end|>\n",
    "<|im_start|>assistant\n",
    "Clinical Note:\n",
    "\";\n",
    "\n",
    "Response<Completions> completionsResponse2b = await client.GetCompletionsAsync(\n",
    "    deploymentOrModelName: deploymentName,\n",
    "    new CompletionsOptions()\n",
    "    {\n",
    "        Prompts = { promptStep2b },\n",
    "        Temperature = (float)0.3,\n",
    "        MaxTokens = 1000,\n",
    "        FrequencyPenalty = (float)0,\n",
    "        PresencePenalty = (float)0,\n",
    "        StopSequences = {\"<|im_end|>\"},\n",
    "        NucleusSamplingFactor = 1        \n",
    "    });\n",
    "\n",
    "Completions completions2b = completionsResponse2b.Value;\n",
    "\n",
    "string clinicalNoteStructuredb = completions2b.Choices.First().Text;\n",
    "\n",
    "Console.WriteLine($\"Medical Shorthand: {shorthand}\");\n",
    "Console.WriteLine($\"Structred Clinical Note: {StringUtils.WordWrap(clinicalNoteStructuredb, 80)}\");"
   ]
  },
  {
   "cell_type": "markdown",
   "metadata": {},
   "source": [
    "### Step 3: Analyse the Clinical Note to check if the doctor has missed anything?\n",
    "\n",
    "- **Input**: Medical Shorthand (`clinicalNote`)\n",
    "- **Output**: Clinical Note (`feedback`)\n",
    "- **Model used**: `gpt-35-turbo`\n",
    "\n",
    "> Notes: On trying the `gpt-4` model yeilded better results. You may need to tweak the API settings if/when you use a different model.\n",
    "\n",
    "The template used is as follows:\n",
    "\n",
    "```\n",
    "<|im_start|>system\n",
    "You are an medical assistant.\n",
    "\n",
    "Users will paste in a clinical note. You will respond by analysing the clinical note and checking if the doctor has missed anything.\n",
    "<|im_end|>\n",
    "<|im_start|>user\n",
    "******THE-LONG-FORM-CLINICAL-NOTE-GOES-HERE******\n",
    "<|im_end|>\n",
    "<|im_start|>assistant\n",
    "```\n"
   ]
  },
  {
   "cell_type": "code",
   "execution_count": 8,
   "metadata": {
    "dotnet_interactive": {
     "language": "csharp"
    },
    "polyglot_notebook": {
     "kernelName": "csharp"
    },
    "vscode": {
     "languageId": "polyglot-notebook"
    }
   },
   "outputs": [
    {
     "name": "stdout",
     "output_type": "stream",
     "text": [
      "Feedback: John Brown, a 73 year old male, presented with chest pain of 12 days duration\n",
      "typical of coronary artery disease. Past Medical History includes a ST-Elevation\n",
      "Myocardial Infarction (STEMI) in 2002, which was treated with Percutaneous\n",
      "Coronary Intervention (PCI) to the Left Anterior Descending Artery (LAD). He\n",
      "also has Chronic Kidney Disease (CKD) and Cerebrovascular Accident (CVA). He is\n",
      "on anticoagulation with a Non-Vitamin K Oral Anticoagulant (NOAC) for Atrial\n",
      "Fibrillation (AF). His medications include Bicor, Aspirin, Statin, Rivaroxaban,\n",
      "and Entresto. On examination, his Body Mass Index (BMI) was positive,\n",
      "Electrocardiogram (ECG) showed Normal Sinus Rhythm (NSR) at 80 beats per minute,\n",
      "Blood Pressure (BP) was 120/75, Jugular Venous Pressure (JVP) was Normal, and\n",
      "there was no Pedal Edema. His chest was clear.\n",
      "\n",
      "Impression: Stable.\n",
      "\n",
      "Plan:\n",
      "Lifestyle modifications, diet, follow-up with General Practitioner (GP), and\n",
      "referral to Pulmonary Hypertension (PHT) clinic.\n",
      "\n",
      "Analysis:\n",
      "\n",
      "Based on the\n",
      "clinical note, it appears that the doctor has taken a comprehensive approach to\n",
      "the patient's care. The patient's past medical history, medications, and\n",
      "physical examination have all been taken into account. The doctor has provided a\n",
      "plan of lifestyle modifications, diet, follow-up with a GP, and referral to a\n",
      "PHT clinic. It appears that the doctor has not missed anything in the clinical\n",
      "note.\n",
      "\n"
     ]
    }
   ],
   "source": [
    "string promptStep3 = $@\"\n",
    "<|im_start|>system\n",
    "You are an medical assistant. \n",
    "\n",
    "Users will paste in a clinical note. You will respond by analysing the clinical note and checking if the doctor has missed anything.\n",
    "<|im_end|>\n",
    "<|im_start|>user\n",
    "{clinicalNote}\n",
    "<|im_end|>\n",
    "<|im_start|>assistant\n",
    "Clinical Note:\n",
    "\";\n",
    "\n",
    "Response<Completions> completionsResponse3 = await client.GetCompletionsAsync(\n",
    "    deploymentOrModelName: deploymentName,\n",
    "    new CompletionsOptions()\n",
    "    {\n",
    "        Prompts = { promptStep3 },\n",
    "        Temperature = (float)0.3,\n",
    "        MaxTokens = 1000,\n",
    "        FrequencyPenalty = (float)0,\n",
    "        PresencePenalty = (float)0,\n",
    "        StopSequences = {\"<|im_end|>\"},\n",
    "        NucleusSamplingFactor = 1        \n",
    "    });\n",
    "\n",
    "Completions completions3 = completionsResponse3.Value;\n",
    "\n",
    "string feedback = completions3.Choices.First().Text;\n",
    "\n",
    "Console.WriteLine($\"Feedback: {StringUtils.WordWrap(feedback, 80)}\");"
   ]
  }
 ],
 "metadata": {
  "language_info": {
   "name": "python"
  },
  "orig_nbformat": 4
 },
 "nbformat": 4,
 "nbformat_minor": 2
}
